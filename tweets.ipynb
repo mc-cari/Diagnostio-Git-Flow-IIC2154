{
 "cells": [
  {
   "cell_type": "code",
   "execution_count": 1,
   "metadata": {},
   "outputs": [],
   "source": [
    "import pandas as pd\n",
    "import numpy as np"
   ]
  },
  {
   "cell_type": "code",
   "execution_count": 2,
   "metadata": {},
   "outputs": [],
   "source": [
    "def top_tweets(data):\n",
    "    return data.sort_values(by='retweetCount', ascending=False).head(10)[\"url\"]"
   ]
  },
  {
   "cell_type": "code",
   "execution_count": 3,
   "metadata": {},
   "outputs": [],
   "source": [
    "\n",
    "\n",
    "def top_users(data):\n",
    "    return \"none\"\n",
    "\n",
    "\n",
    "    \n",
    "   "
   ]
  },
  {
   "cell_type": "code",
   "execution_count": 4,
   "metadata": {},
   "outputs": [],
   "source": [
    "#https://sparkbyexamples.com/pandas/pandas-groupby-count-examples/\n",
    "#https://stackoverflow.com/questions/25146121/extracting-just-month-and-year-separately-from-pandas-datetime-column\n",
    "def top_days(data):\n",
    "\n",
    "    data['day'] = pd.DatetimeIndex(data['date']).date\n",
    "    return data.groupby('day').count().sort_values(by='date', ascending=False)['date'].head(10)\n",
    "        "
   ]
  },
  {
   "cell_type": "code",
   "execution_count": 5,
   "metadata": {},
   "outputs": [],
   "source": [
    "def top_hashtag(data):\n",
    "    return \"none\""
   ]
  },
  {
   "cell_type": "code",
   "execution_count": 6,
   "metadata": {},
   "outputs": [],
   "source": [
    "#https://www.geeksforgeeks.org/how-to-read-json-files-with-pandas/#:~:text=Reading%20JSON%20Files%20using%20Pandas,and%20columns)%20that%20stores%20data.\n",
    "def load_data(name):\n",
    "    data = pd.read_json(name, lines=True)\n",
    "\n",
    "    return data\n"
   ]
  },
  {
   "cell_type": "code",
   "execution_count": 7,
   "metadata": {},
   "outputs": [],
   "source": [
    "# main funtion\n",
    "def main():\n",
    "    data = load_data(\"data/farmers-protest-tweets-2021-03-5.json\")\n",
    "    data.head(5)\n",
    "    print(top_tweets(data))\n",
    "    print(top_users(data))\n",
    "    print(top_days(data))\n",
    "    print(top_hashtag(data))\n",
    "    "
   ]
  },
  {
   "cell_type": "code",
   "execution_count": 8,
   "metadata": {},
   "outputs": [
    {
     "name": "stdout",
     "output_type": "stream",
     "text": [
      "408128    https://twitter.com/rihanna/status/13566258896...\n",
      "395142    https://twitter.com/GretaThunberg/status/13566...\n",
      "266196    https://twitter.com/GretaThunberg/status/13572...\n",
      "366579    https://twitter.com/miakhalifa/status/13568483...\n",
      "372793    https://twitter.com/miakhalifa/status/13568277...\n",
      "314192    https://twitter.com/TeamJuJu/status/1357048037...\n",
      "215034    https://twitter.com/BobBlackman/status/1357755...\n",
      "398011    https://twitter.com/vanessa_vash/status/135668...\n",
      "325261    https://twitter.com/kylekuzma/status/135700972...\n",
      "163689    https://twitter.com/AmandaCerny/status/1359013...\n",
      "Name: url, dtype: object\n",
      "none\n",
      "day\n",
      "2021-02-03    83866\n",
      "2021-02-04    58607\n",
      "2021-02-05    33332\n",
      "2021-02-02    28548\n",
      "2021-02-06    22420\n",
      "2021-02-07    11325\n",
      "2021-02-09     9320\n",
      "2021-02-08     8920\n",
      "2021-02-10     7973\n",
      "2021-02-11     5698\n",
      "Name: date, dtype: int64\n",
      "none\n"
     ]
    }
   ],
   "source": [
    "main()"
   ]
  }
 ],
 "metadata": {
  "kernelspec": {
   "display_name": "Python 3.8.0 64-bit",
   "language": "python",
   "name": "python3"
  },
  "language_info": {
   "codemirror_mode": {
    "name": "ipython",
    "version": 3
   },
   "file_extension": ".py",
   "mimetype": "text/x-python",
   "name": "python",
   "nbconvert_exporter": "python",
   "pygments_lexer": "ipython3",
   "version": "3.8.0"
  },
  "orig_nbformat": 4,
  "vscode": {
   "interpreter": {
    "hash": "fce1d45328fd8024ce515f0ae0f0a25e82c54d2a05344803a525f4d98aa6e669"
   }
  }
 },
 "nbformat": 4,
 "nbformat_minor": 2
}
